{
 "cells": [
  {
   "cell_type": "code",
   "execution_count": 1,
   "id": "b8fdd10c",
   "metadata": {},
   "outputs": [],
   "source": [
    "#importing libraries\n",
    "import numpy as np\n",
    "import pandas as pd \n",
    "import seaborn as sns\n",
    "import matplotlib.pyplot as plt\n",
    "import os\n",
    "import sys\n",
    "%matplotlib inline\n",
    "\n",
    "# Ignore Warnings\n",
    "import warnings\n",
    "warnings.filterwarnings(\"ignore\")\n",
    "warnings.warn(\"this will not show\")"
   ]
  },
  {
   "cell_type": "code",
   "execution_count": 2,
   "id": "d85ffc38",
   "metadata": {},
   "outputs": [],
   "source": [
    "#!pip install termcolor\n",
    "import colorama\n",
    "from colorama import Fore, Style  # makes strings colored\n",
    "from termcolor import colored\n",
    "from termcolor import cprint\n",
    "\n",
    "# Figure&Display options\n",
    "plt.rcParams[\"figure.figsize\"] = (16, 9)\n",
    "pd.set_option('max_colwidth',200)\n",
    "pd.set_option('display.max_rows', 1000)\n",
    "pd.set_option('display.max_columns', 200)\n",
    "# pd.set_option('display.float_format', lambda x: '%.2f' % x)"
   ]
  },
  {
   "cell_type": "code",
   "execution_count": 3,
   "id": "768d2e88",
   "metadata": {},
   "outputs": [],
   "source": [
    "#!pip install cufflinks"
   ]
  },
  {
   "cell_type": "code",
   "execution_count": 7,
   "id": "9b3340bc",
   "metadata": {},
   "outputs": [],
   "source": [
    "# Importing plotly and cufflinks in offline mode\n",
    "# import cufflinks as cf\n",
    "# import plotly.offline\n",
    "# cf.go_offline()\n",
    "# cf.set_config_file(offline=False, world_readable=True)\n",
    "import plotly.express as px\n",
    "from plotly.subplots import make_subplots\n",
    "import plotly.graph_objects as go"
   ]
  },
  {
   "cell_type": "code",
   "execution_count": 8,
   "id": "a14fb9f8",
   "metadata": {},
   "outputs": [
    {
     "data": {
      "text/html": [
       "<div>\n",
       "<style scoped>\n",
       "    .dataframe tbody tr th:only-of-type {\n",
       "        vertical-align: middle;\n",
       "    }\n",
       "\n",
       "    .dataframe tbody tr th {\n",
       "        vertical-align: top;\n",
       "    }\n",
       "\n",
       "    .dataframe thead th {\n",
       "        text-align: right;\n",
       "    }\n",
       "</style>\n",
       "<table border=\"1\" class=\"dataframe\">\n",
       "  <thead>\n",
       "    <tr style=\"text-align: right;\">\n",
       "      <th></th>\n",
       "      <th>Ware_house_ID</th>\n",
       "      <th>WH_Manager_ID</th>\n",
       "      <th>Location_type</th>\n",
       "      <th>WH_capacity_size</th>\n",
       "      <th>zone</th>\n",
       "      <th>WH_regional_zone</th>\n",
       "      <th>num_refill_req_l3m</th>\n",
       "      <th>transport_issue_l1y</th>\n",
       "      <th>Competitor_in_mkt</th>\n",
       "      <th>retail_shop_num</th>\n",
       "      <th>wh_owner_type</th>\n",
       "      <th>distributor_num</th>\n",
       "      <th>flood_impacted</th>\n",
       "      <th>flood_proof</th>\n",
       "      <th>electric_supply</th>\n",
       "      <th>dist_from_hub</th>\n",
       "      <th>workers_num</th>\n",
       "      <th>wh_est_year</th>\n",
       "      <th>storage_issue_reported_l3m</th>\n",
       "      <th>temp_reg_mach</th>\n",
       "      <th>approved_wh_govt_certificate</th>\n",
       "      <th>wh_breakdown_l3m</th>\n",
       "      <th>govt_check_l3m</th>\n",
       "      <th>product_wg_ton</th>\n",
       "    </tr>\n",
       "  </thead>\n",
       "  <tbody>\n",
       "    <tr>\n",
       "      <th>0</th>\n",
       "      <td>WH_100000</td>\n",
       "      <td>EID_50000</td>\n",
       "      <td>Urban</td>\n",
       "      <td>Small</td>\n",
       "      <td>West</td>\n",
       "      <td>Zone 6</td>\n",
       "      <td>3</td>\n",
       "      <td>1</td>\n",
       "      <td>2</td>\n",
       "      <td>4651</td>\n",
       "      <td>Rented</td>\n",
       "      <td>24</td>\n",
       "      <td>0</td>\n",
       "      <td>1</td>\n",
       "      <td>1</td>\n",
       "      <td>91</td>\n",
       "      <td>29.0</td>\n",
       "      <td>NaN</td>\n",
       "      <td>13</td>\n",
       "      <td>0</td>\n",
       "      <td>A</td>\n",
       "      <td>5</td>\n",
       "      <td>15</td>\n",
       "      <td>17115</td>\n",
       "    </tr>\n",
       "    <tr>\n",
       "      <th>1</th>\n",
       "      <td>WH_100001</td>\n",
       "      <td>EID_50001</td>\n",
       "      <td>Rural</td>\n",
       "      <td>Large</td>\n",
       "      <td>North</td>\n",
       "      <td>Zone 5</td>\n",
       "      <td>0</td>\n",
       "      <td>0</td>\n",
       "      <td>4</td>\n",
       "      <td>6217</td>\n",
       "      <td>Company Owned</td>\n",
       "      <td>47</td>\n",
       "      <td>0</td>\n",
       "      <td>0</td>\n",
       "      <td>1</td>\n",
       "      <td>210</td>\n",
       "      <td>31.0</td>\n",
       "      <td>NaN</td>\n",
       "      <td>4</td>\n",
       "      <td>0</td>\n",
       "      <td>A</td>\n",
       "      <td>3</td>\n",
       "      <td>17</td>\n",
       "      <td>5074</td>\n",
       "    </tr>\n",
       "    <tr>\n",
       "      <th>2</th>\n",
       "      <td>WH_100002</td>\n",
       "      <td>EID_50002</td>\n",
       "      <td>Rural</td>\n",
       "      <td>Mid</td>\n",
       "      <td>South</td>\n",
       "      <td>Zone 2</td>\n",
       "      <td>1</td>\n",
       "      <td>0</td>\n",
       "      <td>4</td>\n",
       "      <td>4306</td>\n",
       "      <td>Company Owned</td>\n",
       "      <td>64</td>\n",
       "      <td>0</td>\n",
       "      <td>0</td>\n",
       "      <td>0</td>\n",
       "      <td>161</td>\n",
       "      <td>37.0</td>\n",
       "      <td>NaN</td>\n",
       "      <td>17</td>\n",
       "      <td>0</td>\n",
       "      <td>A</td>\n",
       "      <td>6</td>\n",
       "      <td>22</td>\n",
       "      <td>23137</td>\n",
       "    </tr>\n",
       "    <tr>\n",
       "      <th>3</th>\n",
       "      <td>WH_100003</td>\n",
       "      <td>EID_50003</td>\n",
       "      <td>Rural</td>\n",
       "      <td>Mid</td>\n",
       "      <td>North</td>\n",
       "      <td>Zone 3</td>\n",
       "      <td>7</td>\n",
       "      <td>4</td>\n",
       "      <td>2</td>\n",
       "      <td>6000</td>\n",
       "      <td>Rented</td>\n",
       "      <td>50</td>\n",
       "      <td>0</td>\n",
       "      <td>0</td>\n",
       "      <td>0</td>\n",
       "      <td>103</td>\n",
       "      <td>21.0</td>\n",
       "      <td>NaN</td>\n",
       "      <td>17</td>\n",
       "      <td>1</td>\n",
       "      <td>A+</td>\n",
       "      <td>3</td>\n",
       "      <td>27</td>\n",
       "      <td>22115</td>\n",
       "    </tr>\n",
       "    <tr>\n",
       "      <th>4</th>\n",
       "      <td>WH_100004</td>\n",
       "      <td>EID_50004</td>\n",
       "      <td>Rural</td>\n",
       "      <td>Large</td>\n",
       "      <td>North</td>\n",
       "      <td>Zone 5</td>\n",
       "      <td>3</td>\n",
       "      <td>1</td>\n",
       "      <td>2</td>\n",
       "      <td>4740</td>\n",
       "      <td>Company Owned</td>\n",
       "      <td>42</td>\n",
       "      <td>1</td>\n",
       "      <td>0</td>\n",
       "      <td>1</td>\n",
       "      <td>112</td>\n",
       "      <td>25.0</td>\n",
       "      <td>2009.0</td>\n",
       "      <td>18</td>\n",
       "      <td>0</td>\n",
       "      <td>C</td>\n",
       "      <td>6</td>\n",
       "      <td>24</td>\n",
       "      <td>24071</td>\n",
       "    </tr>\n",
       "  </tbody>\n",
       "</table>\n",
       "</div>"
      ],
      "text/plain": [
       "  Ware_house_ID WH_Manager_ID Location_type WH_capacity_size   zone  \\\n",
       "0     WH_100000     EID_50000         Urban            Small   West   \n",
       "1     WH_100001     EID_50001         Rural            Large  North   \n",
       "2     WH_100002     EID_50002         Rural              Mid  South   \n",
       "3     WH_100003     EID_50003         Rural              Mid  North   \n",
       "4     WH_100004     EID_50004         Rural            Large  North   \n",
       "\n",
       "  WH_regional_zone  num_refill_req_l3m  transport_issue_l1y  \\\n",
       "0           Zone 6                   3                    1   \n",
       "1           Zone 5                   0                    0   \n",
       "2           Zone 2                   1                    0   \n",
       "3           Zone 3                   7                    4   \n",
       "4           Zone 5                   3                    1   \n",
       "\n",
       "   Competitor_in_mkt  retail_shop_num  wh_owner_type  distributor_num  \\\n",
       "0                  2             4651         Rented               24   \n",
       "1                  4             6217  Company Owned               47   \n",
       "2                  4             4306  Company Owned               64   \n",
       "3                  2             6000         Rented               50   \n",
       "4                  2             4740  Company Owned               42   \n",
       "\n",
       "   flood_impacted  flood_proof  electric_supply  dist_from_hub  workers_num  \\\n",
       "0               0            1                1             91         29.0   \n",
       "1               0            0                1            210         31.0   \n",
       "2               0            0                0            161         37.0   \n",
       "3               0            0                0            103         21.0   \n",
       "4               1            0                1            112         25.0   \n",
       "\n",
       "   wh_est_year  storage_issue_reported_l3m  temp_reg_mach  \\\n",
       "0          NaN                          13              0   \n",
       "1          NaN                           4              0   \n",
       "2          NaN                          17              0   \n",
       "3          NaN                          17              1   \n",
       "4       2009.0                          18              0   \n",
       "\n",
       "  approved_wh_govt_certificate  wh_breakdown_l3m  govt_check_l3m  \\\n",
       "0                            A                 5              15   \n",
       "1                            A                 3              17   \n",
       "2                            A                 6              22   \n",
       "3                           A+                 3              27   \n",
       "4                            C                 6              24   \n",
       "\n",
       "   product_wg_ton  \n",
       "0           17115  \n",
       "1            5074  \n",
       "2           23137  \n",
       "3           22115  \n",
       "4           24071  "
      ]
     },
     "execution_count": 8,
     "metadata": {},
     "output_type": "execute_result"
    }
   ],
   "source": [
    "fmcg_data = pd.read_csv(\"Data.csv\")\n",
    "fmcg_data.head()"
   ]
  },
  {
   "cell_type": "code",
   "execution_count": 9,
   "id": "95e57c9e",
   "metadata": {},
   "outputs": [],
   "source": [
    "#!pip install ipywidgets"
   ]
  },
  {
   "cell_type": "code",
   "execution_count": 10,
   "id": "fc3156f1",
   "metadata": {},
   "outputs": [],
   "source": [
    "def missing_values(df):\n",
    "    missing_number = df.isnull().sum().sort_values(ascending=False)\n",
    "    missing_percent = (df.isnull().sum()/df.shape[0]).sort_values(ascending=False)\n",
    "    missing_values = pd.concat([missing_number, missing_percent], axis=1, keys=['Missing_Number', 'Missing_Percent'])\n",
    "    return missing_values[missing_values['Missing_Number']>0]"
   ]
  },
  {
   "cell_type": "code",
   "execution_count": 11,
   "id": "4d12afbc",
   "metadata": {},
   "outputs": [],
   "source": [
    "def first_looking(df):\n",
    "    print(colored(\"Shape:\", attrs=['bold']), df.shape,'\\n', \n",
    "          colored('*'*100, 'red', attrs=['bold']),\n",
    "          colored(\"\\nInfo:\\n\", attrs=['bold']), sep='')\n",
    "    print(df.info(), '\\n', \n",
    "          colored('*'*100, 'red', attrs=['bold']), sep='')\n",
    "    print(colored(\"Number of Uniques:\\n\", attrs=['bold']), df.nunique(),'\\n',\n",
    "          colored('*'*100, 'red', attrs=['bold']), sep='')\n",
    "    print(colored(\"Missing Values:\\n\", attrs=['bold']), missing_values(df),'\\n', \n",
    "          colored('*'*100, 'red', attrs=['bold']), sep='')\n",
    "    print(colored(\"All Columns:\", attrs=['bold']), list(df.columns),'\\n', \n",
    "          colored('*'*100, 'red', attrs=['bold']), sep='')\n",
    "\n",
    "    df.columns= df.columns.str.lower().str.replace('&', '_').str.replace(' ', '_')\n",
    "    print(colored(\"Columns after rename:\", attrs=['bold']), list(df.columns),'\\n',\n",
    "          colored('*'*100, 'red', attrs=['bold']), sep='')\n",
    "    print(colored(\"Descriptive Statistics \\n\", attrs=['bold']), df.describe().round(2),'\\n',\n",
    "          colored('*'*100, 'red', attrs=['bold']), sep='') # Gives a statstical breakdown of the data.\n",
    "    print(colored(\"Descriptive Statistics (Categorical Columns) \\n\", attrs=['bold']), df.describe(include=object).T,'\\n',\n",
    "          colored('*'*100, 'red', attrs=['bold']), sep='') # Gives a statstical breakdown of the data."
   ]
  },
  {
   "cell_type": "code",
   "execution_count": 12,
   "id": "e8dba2aa",
   "metadata": {},
   "outputs": [],
   "source": [
    "# To view summary information about the columns\n",
    "\n",
    "def first_look(df,col):\n",
    "    print(\"column name    : \", col)\n",
    "    print(\"per_of_nulls   : \", \"%\", round(df[col].isnull().sum()/df.shape[0]*100, 2))\n",
    "    print(\"num_of_nulls   : \", df[col].isnull().sum())\n",
    "    print(\"num_of_uniques : \", df[col].nunique())\n",
    "    print(\"Value counts   : \\n\", df[col].value_counts(dropna = False)) \n",
    "    print(colored(\"-\"*100, 'red',attrs=['bold']), sep=\"\")"
   ]
  },
  {
   "cell_type": "code",
   "execution_count": 13,
   "id": "428b60ae",
   "metadata": {},
   "outputs": [],
   "source": [
    "def multicolinearity_control(df):\n",
    "    feature =[]\n",
    "    collinear=[]\n",
    "    for col in df.corr().columns:\n",
    "        for i in df.corr().index:\n",
    "            if (abs(df.corr()[col][i])> .75 and abs(df.corr()[col][i]) < 1):\n",
    "                    feature.append(col)\n",
    "                    collinear.append(i)\n",
    "                    print(colored(f\"Multicolinearity alert in between:{col} - {i}\", \n",
    "                                  \"red\", attrs=['bold']), df.shape,'\\n',\n",
    "                                  colored('*'*100, 'red', attrs=['bold']), sep='')\n",
    "    else:\n",
    "        print(\"No Multicolinearity\")"
   ]
  },
  {
   "cell_type": "code",
   "execution_count": 14,
   "id": "c4381dad",
   "metadata": {},
   "outputs": [],
   "source": [
    "def duplicate_values(df):\n",
    "    print(colored(\"Duplicate check...\", attrs=['bold']), sep='')\n",
    "    duplicate_values = df.duplicated(subset=None, keep='first').sum()\n",
    "    if duplicate_values > 0:\n",
    "        df.drop_duplicates(keep='first', inplace=True)\n",
    "        print(duplicate_values, colored(\" Duplicates were dropped!\"),'\\n',\n",
    "              colored('*'*100, 'red', attrs=['bold']), sep='')\n",
    "    else:\n",
    "        print(colored(\"There are no duplicates\"),'\\n',\n",
    "              colored('*'*100, 'red', attrs=['bold']), sep='')"
   ]
  },
  {
   "cell_type": "code",
   "execution_count": 15,
   "id": "2fe00cb7",
   "metadata": {},
   "outputs": [],
   "source": [
    "def drop_columns(df, drop_columns):\n",
    "    if drop_columns !=[]:\n",
    "        df.drop(drop_columns, axis=1, inplace=True)\n",
    "        print(drop_columns, 'were dropped')\n",
    "    else:\n",
    "        print(colored('We will now check the missing values and if necessary, the realted columns will be dropped!', attrs=['bold']),'\\n',\n",
    "              colored('*'*100, 'red', attrs=['bold']), sep='')"
   ]
  },
  {
   "cell_type": "code",
   "execution_count": 16,
   "id": "1e22796a",
   "metadata": {},
   "outputs": [],
   "source": [
    "def drop_null(df, limit):\n",
    "    print('Shape:', df.shape)\n",
    "    for i in df.isnull().sum().index:\n",
    "        if (df.isnull().sum()[i]/df.shape[0]*100)>limit:\n",
    "            print(df.isnull().sum()[i], 'percent of', i ,'null and were dropped')\n",
    "            df.drop(i, axis=1, inplace=True)\n",
    "            print('new shape:', df.shape)       \n",
    "    print(colored(\"New shape after missing value control:\"),'\\n', df.shape)"
   ]
  },
  {
   "cell_type": "code",
   "execution_count": 17,
   "id": "4007892b",
   "metadata": {},
   "outputs": [
    {
     "data": {
      "text/html": [
       "<div>\n",
       "<style scoped>\n",
       "    .dataframe tbody tr th:only-of-type {\n",
       "        vertical-align: middle;\n",
       "    }\n",
       "\n",
       "    .dataframe tbody tr th {\n",
       "        vertical-align: top;\n",
       "    }\n",
       "\n",
       "    .dataframe thead th {\n",
       "        text-align: right;\n",
       "    }\n",
       "</style>\n",
       "<table border=\"1\" class=\"dataframe\">\n",
       "  <thead>\n",
       "    <tr style=\"text-align: right;\">\n",
       "      <th></th>\n",
       "      <th>Missing_Number</th>\n",
       "      <th>Missing_Percent</th>\n",
       "    </tr>\n",
       "  </thead>\n",
       "  <tbody>\n",
       "    <tr>\n",
       "      <th>wh_est_year</th>\n",
       "      <td>11881</td>\n",
       "      <td>0.47524</td>\n",
       "    </tr>\n",
       "    <tr>\n",
       "      <th>workers_num</th>\n",
       "      <td>990</td>\n",
       "      <td>0.03960</td>\n",
       "    </tr>\n",
       "    <tr>\n",
       "      <th>approved_wh_govt_certificate</th>\n",
       "      <td>908</td>\n",
       "      <td>0.03632</td>\n",
       "    </tr>\n",
       "  </tbody>\n",
       "</table>\n",
       "</div>"
      ],
      "text/plain": [
       "                              Missing_Number  Missing_Percent\n",
       "wh_est_year                            11881          0.47524\n",
       "workers_num                              990          0.03960\n",
       "approved_wh_govt_certificate             908          0.03632"
      ]
     },
     "execution_count": 17,
     "metadata": {},
     "output_type": "execute_result"
    }
   ],
   "source": [
    "missing_values(fmcg_data)"
   ]
  },
  {
   "cell_type": "code",
   "execution_count": 18,
   "id": "0d09df04",
   "metadata": {},
   "outputs": [
    {
     "name": "stdout",
     "output_type": "stream",
     "text": [
      "\u001b[1mShape:\u001b[0m(25000, 24)\n",
      "\u001b[1m\u001b[31m****************************************************************************************************\u001b[0m\u001b[1m\n",
      "Info:\n",
      "\u001b[0m\n",
      "<class 'pandas.core.frame.DataFrame'>\n",
      "RangeIndex: 25000 entries, 0 to 24999\n",
      "Data columns (total 24 columns):\n",
      " #   Column                        Non-Null Count  Dtype  \n",
      "---  ------                        --------------  -----  \n",
      " 0   Ware_house_ID                 25000 non-null  object \n",
      " 1   WH_Manager_ID                 25000 non-null  object \n",
      " 2   Location_type                 25000 non-null  object \n",
      " 3   WH_capacity_size              25000 non-null  object \n",
      " 4   zone                          25000 non-null  object \n",
      " 5   WH_regional_zone              25000 non-null  object \n",
      " 6   num_refill_req_l3m            25000 non-null  int64  \n",
      " 7   transport_issue_l1y           25000 non-null  int64  \n",
      " 8   Competitor_in_mkt             25000 non-null  int64  \n",
      " 9   retail_shop_num               25000 non-null  int64  \n",
      " 10  wh_owner_type                 25000 non-null  object \n",
      " 11  distributor_num               25000 non-null  int64  \n",
      " 12  flood_impacted                25000 non-null  int64  \n",
      " 13  flood_proof                   25000 non-null  int64  \n",
      " 14  electric_supply               25000 non-null  int64  \n",
      " 15  dist_from_hub                 25000 non-null  int64  \n",
      " 16  workers_num                   24010 non-null  float64\n",
      " 17  wh_est_year                   13119 non-null  float64\n",
      " 18  storage_issue_reported_l3m    25000 non-null  int64  \n",
      " 19  temp_reg_mach                 25000 non-null  int64  \n",
      " 20  approved_wh_govt_certificate  24092 non-null  object \n",
      " 21  wh_breakdown_l3m              25000 non-null  int64  \n",
      " 22  govt_check_l3m                25000 non-null  int64  \n",
      " 23  product_wg_ton                25000 non-null  int64  \n",
      "dtypes: float64(2), int64(14), object(8)\n",
      "memory usage: 4.6+ MB\n",
      "None\n",
      "\u001b[1m\u001b[31m****************************************************************************************************\u001b[0m\n",
      "\u001b[1mNumber of Uniques:\n",
      "\u001b[0mWare_house_ID                   25000\n",
      "WH_Manager_ID                   25000\n",
      "Location_type                       2\n",
      "WH_capacity_size                    3\n",
      "zone                                4\n",
      "WH_regional_zone                    6\n",
      "num_refill_req_l3m                  9\n",
      "transport_issue_l1y                 6\n",
      "Competitor_in_mkt                  12\n",
      "retail_shop_num                  4906\n",
      "wh_owner_type                       2\n",
      "distributor_num                    56\n",
      "flood_impacted                      2\n",
      "flood_proof                         2\n",
      "electric_supply                     2\n",
      "dist_from_hub                     217\n",
      "workers_num                        60\n",
      "wh_est_year                        28\n",
      "storage_issue_reported_l3m         37\n",
      "temp_reg_mach                       2\n",
      "approved_wh_govt_certificate        5\n",
      "wh_breakdown_l3m                    7\n",
      "govt_check_l3m                     32\n",
      "product_wg_ton                   4561\n",
      "dtype: int64\n",
      "\u001b[1m\u001b[31m****************************************************************************************************\u001b[0m\n",
      "\u001b[1mMissing Values:\n",
      "\u001b[0m                              Missing_Number  Missing_Percent\n",
      "wh_est_year                            11881          0.47524\n",
      "workers_num                              990          0.03960\n",
      "approved_wh_govt_certificate             908          0.03632\n",
      "\u001b[1m\u001b[31m****************************************************************************************************\u001b[0m\n",
      "\u001b[1mAll Columns:\u001b[0m['Ware_house_ID', 'WH_Manager_ID', 'Location_type', 'WH_capacity_size', 'zone', 'WH_regional_zone', 'num_refill_req_l3m', 'transport_issue_l1y', 'Competitor_in_mkt', 'retail_shop_num', 'wh_owner_type', 'distributor_num', 'flood_impacted', 'flood_proof', 'electric_supply', 'dist_from_hub', 'workers_num', 'wh_est_year', 'storage_issue_reported_l3m', 'temp_reg_mach', 'approved_wh_govt_certificate', 'wh_breakdown_l3m', 'govt_check_l3m', 'product_wg_ton']\n",
      "\u001b[1m\u001b[31m****************************************************************************************************\u001b[0m\n",
      "\u001b[1mColumns after rename:\u001b[0m['ware_house_id', 'wh_manager_id', 'location_type', 'wh_capacity_size', 'zone', 'wh_regional_zone', 'num_refill_req_l3m', 'transport_issue_l1y', 'competitor_in_mkt', 'retail_shop_num', 'wh_owner_type', 'distributor_num', 'flood_impacted', 'flood_proof', 'electric_supply', 'dist_from_hub', 'workers_num', 'wh_est_year', 'storage_issue_reported_l3m', 'temp_reg_mach', 'approved_wh_govt_certificate', 'wh_breakdown_l3m', 'govt_check_l3m', 'product_wg_ton']\n",
      "\u001b[1m\u001b[31m****************************************************************************************************\u001b[0m\n",
      "\u001b[1mDescriptive Statistics \n",
      "\u001b[0m       num_refill_req_l3m  transport_issue_l1y  competitor_in_mkt  \\\n",
      "count            25000.00             25000.00           25000.00   \n",
      "mean                 4.09                 0.77               3.10   \n",
      "std                  2.61                 1.20               1.14   \n",
      "min                  0.00                 0.00               0.00   \n",
      "25%                  2.00                 0.00               2.00   \n",
      "50%                  4.00                 0.00               3.00   \n",
      "75%                  6.00                 1.00               4.00   \n",
      "max                  8.00                 5.00              12.00   \n",
      "\n",
      "       retail_shop_num  distributor_num  flood_impacted  flood_proof  \\\n",
      "count         25000.00         25000.00         25000.0     25000.00   \n",
      "mean           4985.71            42.42             0.1         0.05   \n",
      "std            1052.83            16.06             0.3         0.23   \n",
      "min            1821.00            15.00             0.0         0.00   \n",
      "25%            4313.00            29.00             0.0         0.00   \n",
      "50%            4859.00            42.00             0.0         0.00   \n",
      "75%            5500.00            56.00             0.0         0.00   \n",
      "max           11008.00            70.00             1.0         1.00   \n",
      "\n",
      "       electric_supply  dist_from_hub  workers_num  wh_est_year  \\\n",
      "count         25000.00       25000.00     24010.00     13119.00   \n",
      "mean              0.66         163.54        28.94      2009.38   \n",
      "std               0.47          62.72         7.87         7.53   \n",
      "min               0.00          55.00        10.00      1996.00   \n",
      "25%               0.00         109.00        24.00      2003.00   \n",
      "50%               1.00         164.00        28.00      2009.00   \n",
      "75%               1.00         218.00        33.00      2016.00   \n",
      "max               1.00         271.00        98.00      2023.00   \n",
      "\n",
      "       storage_issue_reported_l3m  temp_reg_mach  wh_breakdown_l3m  \\\n",
      "count                    25000.00       25000.00          25000.00   \n",
      "mean                        17.13           0.30              3.48   \n",
      "std                          9.16           0.46              1.69   \n",
      "min                          0.00           0.00              0.00   \n",
      "25%                         10.00           0.00              2.00   \n",
      "50%                         18.00           0.00              3.00   \n",
      "75%                         24.00           1.00              5.00   \n",
      "max                         39.00           1.00              6.00   \n",
      "\n",
      "       govt_check_l3m  product_wg_ton  \n",
      "count        25000.00        25000.00  \n",
      "mean            18.81        22102.63  \n",
      "std              8.63        11607.76  \n",
      "min              1.00         2065.00  \n",
      "25%             11.00        13059.00  \n",
      "50%             21.00        22101.00  \n",
      "75%             26.00        30103.00  \n",
      "max             32.00        55151.00  \n",
      "\u001b[1m\u001b[31m****************************************************************************************************\u001b[0m\n",
      "\u001b[1mDescriptive Statistics (Categorical Columns) \n",
      "\u001b[0m                              count unique            top   freq\n",
      "ware_house_id                 25000  25000      WH_100000      1\n",
      "wh_manager_id                 25000  25000      EID_50000      1\n",
      "location_type                 25000      2          Rural  22957\n",
      "wh_capacity_size              25000      3          Large  10169\n",
      "zone                          25000      4          North  10278\n",
      "wh_regional_zone              25000      6         Zone 6   8339\n",
      "wh_owner_type                 25000      2  Company Owned  13578\n",
      "approved_wh_govt_certificate  24092      5              C   5501\n",
      "\u001b[1m\u001b[31m****************************************************************************************************\u001b[0m\n"
     ]
    }
   ],
   "source": [
    "first_looking(fmcg_data)"
   ]
  },
  {
   "cell_type": "code",
   "execution_count": 19,
   "id": "4c914d1d",
   "metadata": {},
   "outputs": [
    {
     "name": "stdout",
     "output_type": "stream",
     "text": [
      "\u001b[1mDuplicate check...\u001b[0m\n",
      "There are no duplicates\u001b[0m\n",
      "\u001b[1m\u001b[31m****************************************************************************************************\u001b[0m\n"
     ]
    }
   ],
   "source": [
    "duplicate_values(fmcg_data)"
   ]
  },
  {
   "cell_type": "markdown",
   "id": "0029329e",
   "metadata": {},
   "source": [
    "### Checking for null values and dropping the columns with more than 30% null"
   ]
  },
  {
   "cell_type": "code",
   "execution_count": 20,
   "id": "65873b3a",
   "metadata": {},
   "outputs": [
    {
     "data": {
      "text/plain": [
       "<Figure size 500x500 with 0 Axes>"
      ]
     },
     "metadata": {},
     "output_type": "display_data"
    },
    {
     "data": {
      "image/png": "[encoded data removed]",
      "text/plain": [
       "<Figure size 584.875x500 with 1 Axes>"
      ]
     },
     "metadata": {},
     "output_type": "display_data"
    }
   ],
   "source": [
    "plt.figure(figsize = (5, 5))\n",
    "\n",
    "sns.displot(\n",
    "    data = fmcg_data.isnull().melt(value_name = \"missing\"),\n",
    "    y = \"variable\",\n",
    "    hue = \"missing\",\n",
    "    multiple = \"fill\",\n",
    "    height = 5)\n",
    "\n",
    "plt.axvline(0.3, color = \"r\");"
   ]
  },
  {
   "cell_type": "code",
   "execution_count": 21,
   "id": "f808216c",
   "metadata": {},
   "outputs": [
    {
     "name": "stdout",
     "output_type": "stream",
     "text": [
      "Shape: (25000, 24)\n",
      "11881 percent of wh_est_year null and were dropped\n",
      "new shape: (25000, 23)\n",
      "New shape after missing value control:\u001b[0m \n",
      " (25000, 23)\n"
     ]
    }
   ],
   "source": [
    "drop_null(fmcg_data,30)"
   ]
  },
  {
   "cell_type": "code",
   "execution_count": 22,
   "id": "a42f2399",
   "metadata": {},
   "outputs": [
    {
     "ename": "ValueError",
     "evalue": "could not convert string to float: 'WH_100000'",
     "output_type": "error",
     "traceback": [
      "\u001b[1;31m---------------------------------------------------------------------------\u001b[0m",
      "\u001b[1;31mValueError\u001b[0m                                Traceback (most recent call last)",
      "Cell \u001b[1;32mIn[22], line 1\u001b[0m\n\u001b[1;32m----> 1\u001b[0m \u001b[43mmulticolinearity_control\u001b[49m\u001b[43m(\u001b[49m\u001b[43mfmcg_data\u001b[49m\u001b[43m)\u001b[49m\n",
      "Cell \u001b[1;32mIn[13], line 4\u001b[0m, in \u001b[0;36mmulticolinearity_control\u001b[1;34m(df)\u001b[0m\n\u001b[0;32m      2\u001b[0m feature \u001b[38;5;241m=\u001b[39m[]\n\u001b[0;32m      3\u001b[0m collinear\u001b[38;5;241m=\u001b[39m[]\n\u001b[1;32m----> 4\u001b[0m \u001b[38;5;28;01mfor\u001b[39;00m col \u001b[38;5;129;01min\u001b[39;00m \u001b[43mdf\u001b[49m\u001b[38;5;241;43m.\u001b[39;49m\u001b[43mcorr\u001b[49m\u001b[43m(\u001b[49m\u001b[43m)\u001b[49m\u001b[38;5;241m.\u001b[39mcolumns:\n\u001b[0;32m      5\u001b[0m     \u001b[38;5;28;01mfor\u001b[39;00m i \u001b[38;5;129;01min\u001b[39;00m df\u001b[38;5;241m.\u001b[39mcorr()\u001b[38;5;241m.\u001b[39mindex:\n\u001b[0;32m      6\u001b[0m         \u001b[38;5;28;01mif\u001b[39;00m (\u001b[38;5;28mabs\u001b[39m(df\u001b[38;5;241m.\u001b[39mcorr()[col][i])\u001b[38;5;241m>\u001b[39m \u001b[38;5;241m.75\u001b[39m \u001b[38;5;129;01mand\u001b[39;00m \u001b[38;5;28mabs\u001b[39m(df\u001b[38;5;241m.\u001b[39mcorr()[col][i]) \u001b[38;5;241m<\u001b[39m \u001b[38;5;241m1\u001b[39m):\n",
      "File \u001b[1;32m~\\anaconda3\\envs\\newjup\\lib\\site-packages\\pandas\\core\\frame.py:10054\u001b[0m, in \u001b[0;36mDataFrame.corr\u001b[1;34m(self, method, min_periods, numeric_only)\u001b[0m\n\u001b[0;32m  10052\u001b[0m cols \u001b[38;5;241m=\u001b[39m data\u001b[38;5;241m.\u001b[39mcolumns\n\u001b[0;32m  10053\u001b[0m idx \u001b[38;5;241m=\u001b[39m cols\u001b[38;5;241m.\u001b[39mcopy()\n\u001b[1;32m> 10054\u001b[0m mat \u001b[38;5;241m=\u001b[39m \u001b[43mdata\u001b[49m\u001b[38;5;241;43m.\u001b[39;49m\u001b[43mto_numpy\u001b[49m\u001b[43m(\u001b[49m\u001b[43mdtype\u001b[49m\u001b[38;5;241;43m=\u001b[39;49m\u001b[38;5;28;43mfloat\u001b[39;49m\u001b[43m,\u001b[49m\u001b[43m \u001b[49m\u001b[43mna_value\u001b[49m\u001b[38;5;241;43m=\u001b[39;49m\u001b[43mnp\u001b[49m\u001b[38;5;241;43m.\u001b[39;49m\u001b[43mnan\u001b[49m\u001b[43m,\u001b[49m\u001b[43m \u001b[49m\u001b[43mcopy\u001b[49m\u001b[38;5;241;43m=\u001b[39;49m\u001b[38;5;28;43;01mFalse\u001b[39;49;00m\u001b[43m)\u001b[49m\n\u001b[0;32m  10056\u001b[0m \u001b[38;5;28;01mif\u001b[39;00m method \u001b[38;5;241m==\u001b[39m \u001b[38;5;124m\"\u001b[39m\u001b[38;5;124mpearson\u001b[39m\u001b[38;5;124m\"\u001b[39m:\n\u001b[0;32m  10057\u001b[0m     correl \u001b[38;5;241m=\u001b[39m libalgos\u001b[38;5;241m.\u001b[39mnancorr(mat, minp\u001b[38;5;241m=\u001b[39mmin_periods)\n",
      "File \u001b[1;32m~\\anaconda3\\envs\\newjup\\lib\\site-packages\\pandas\\core\\frame.py:1838\u001b[0m, in \u001b[0;36mDataFrame.to_numpy\u001b[1;34m(self, dtype, copy, na_value)\u001b[0m\n\u001b[0;32m   1836\u001b[0m \u001b[38;5;28;01mif\u001b[39;00m dtype \u001b[38;5;129;01mis\u001b[39;00m \u001b[38;5;129;01mnot\u001b[39;00m \u001b[38;5;28;01mNone\u001b[39;00m:\n\u001b[0;32m   1837\u001b[0m     dtype \u001b[38;5;241m=\u001b[39m np\u001b[38;5;241m.\u001b[39mdtype(dtype)\n\u001b[1;32m-> 1838\u001b[0m result \u001b[38;5;241m=\u001b[39m \u001b[38;5;28;43mself\u001b[39;49m\u001b[38;5;241;43m.\u001b[39;49m\u001b[43m_mgr\u001b[49m\u001b[38;5;241;43m.\u001b[39;49m\u001b[43mas_array\u001b[49m\u001b[43m(\u001b[49m\u001b[43mdtype\u001b[49m\u001b[38;5;241;43m=\u001b[39;49m\u001b[43mdtype\u001b[49m\u001b[43m,\u001b[49m\u001b[43m \u001b[49m\u001b[43mcopy\u001b[49m\u001b[38;5;241;43m=\u001b[39;49m\u001b[43mcopy\u001b[49m\u001b[43m,\u001b[49m\u001b[43m \u001b[49m\u001b[43mna_value\u001b[49m\u001b[38;5;241;43m=\u001b[39;49m\u001b[43mna_value\u001b[49m\u001b[43m)\u001b[49m\n\u001b[0;32m   1839\u001b[0m \u001b[38;5;28;01mif\u001b[39;00m result\u001b[38;5;241m.\u001b[39mdtype \u001b[38;5;129;01mis\u001b[39;00m \u001b[38;5;129;01mnot\u001b[39;00m dtype:\n\u001b[0;32m   1840\u001b[0m     result \u001b[38;5;241m=\u001b[39m np\u001b[38;5;241m.\u001b[39marray(result, dtype\u001b[38;5;241m=\u001b[39mdtype, copy\u001b[38;5;241m=\u001b[39m\u001b[38;5;28;01mFalse\u001b[39;00m)\n",
      "File \u001b[1;32m~\\anaconda3\\envs\\newjup\\lib\\site-packages\\pandas\\core\\internals\\managers.py:1732\u001b[0m, in \u001b[0;36mBlockManager.as_array\u001b[1;34m(self, dtype, copy, na_value)\u001b[0m\n\u001b[0;32m   1730\u001b[0m         arr\u001b[38;5;241m.\u001b[39mflags\u001b[38;5;241m.\u001b[39mwriteable \u001b[38;5;241m=\u001b[39m \u001b[38;5;28;01mFalse\u001b[39;00m\n\u001b[0;32m   1731\u001b[0m \u001b[38;5;28;01melse\u001b[39;00m:\n\u001b[1;32m-> 1732\u001b[0m     arr \u001b[38;5;241m=\u001b[39m \u001b[38;5;28;43mself\u001b[39;49m\u001b[38;5;241;43m.\u001b[39;49m\u001b[43m_interleave\u001b[49m\u001b[43m(\u001b[49m\u001b[43mdtype\u001b[49m\u001b[38;5;241;43m=\u001b[39;49m\u001b[43mdtype\u001b[49m\u001b[43m,\u001b[49m\u001b[43m \u001b[49m\u001b[43mna_value\u001b[49m\u001b[38;5;241;43m=\u001b[39;49m\u001b[43mna_value\u001b[49m\u001b[43m)\u001b[49m\n\u001b[0;32m   1733\u001b[0m     \u001b[38;5;66;03m# The underlying data was copied within _interleave, so no need\u001b[39;00m\n\u001b[0;32m   1734\u001b[0m     \u001b[38;5;66;03m# to further copy if copy=True or setting na_value\u001b[39;00m\n\u001b[0;32m   1736\u001b[0m \u001b[38;5;28;01mif\u001b[39;00m na_value \u001b[38;5;129;01mis\u001b[39;00m \u001b[38;5;129;01mnot\u001b[39;00m lib\u001b[38;5;241m.\u001b[39mno_default:\n",
      "File \u001b[1;32m~\\anaconda3\\envs\\newjup\\lib\\site-packages\\pandas\\core\\internals\\managers.py:1794\u001b[0m, in \u001b[0;36mBlockManager._interleave\u001b[1;34m(self, dtype, na_value)\u001b[0m\n\u001b[0;32m   1792\u001b[0m     \u001b[38;5;28;01melse\u001b[39;00m:\n\u001b[0;32m   1793\u001b[0m         arr \u001b[38;5;241m=\u001b[39m blk\u001b[38;5;241m.\u001b[39mget_values(dtype)\n\u001b[1;32m-> 1794\u001b[0m     result[rl\u001b[38;5;241m.\u001b[39mindexer] \u001b[38;5;241m=\u001b[39m arr\n\u001b[0;32m   1795\u001b[0m     itemmask[rl\u001b[38;5;241m.\u001b[39mindexer] \u001b[38;5;241m=\u001b[39m \u001b[38;5;241m1\u001b[39m\n\u001b[0;32m   1797\u001b[0m \u001b[38;5;28;01mif\u001b[39;00m \u001b[38;5;129;01mnot\u001b[39;00m itemmask\u001b[38;5;241m.\u001b[39mall():\n",
      "\u001b[1;31mValueError\u001b[0m: could not convert string to float: 'WH_100000'"
     ]
    }
   ],
   "source": [
    "multicolinearity_control(fmcg_data)"
   ]
  },
  {
   "cell_type": "markdown",
   "id": "29fded70",
   "metadata": {},
   "source": [
    "# Building a Pipeline and saving the model"
   ]
  },
  {
   "cell_type": "code",
   "execution_count": 23,
   "id": "a06fb627",
   "metadata": {},
   "outputs": [],
   "source": [
    "from sklearn.impute import KNNImputer\n",
    "from sklearn.pipeline import Pipeline\n",
    "from sklearn.preprocessing import OneHotEncoder\n",
    "from sklearn.compose import ColumnTransformer\n",
    "from sklearn.preprocessing import RobustScaler\n",
    "from sklearn.linear_model import LogisticRegression\n",
    "from sklearn.model_selection import  train_test_split, cross_val_score, KFold\n",
    "from sklearn.ensemble import RandomForestRegressor\n",
    "from sklearn.model_selection import GridSearchCV\n",
    "from sklearn.base import BaseEstimator, TransformerMixin\n",
    "from sklearn.utils.validation import check_is_fitted"
   ]
  },
  {
   "cell_type": "code",
   "execution_count": 24,
   "id": "e68ad9f8",
   "metadata": {},
   "outputs": [],
   "source": [
    "drop_cols = [\"ware_house_id\", \"wh_manager_id\"]\n",
    "df=fmcg_data.drop(columns=drop_cols)"
   ]
  },
  {
   "cell_type": "code",
   "execution_count": 25,
   "id": "a07a4be8",
   "metadata": {},
   "outputs": [],
   "source": [
    "X = df.drop(columns=\"product_wg_ton\", axis=1)\n",
    "y = df[\"product_wg_ton\"]"
   ]
  },
  {
   "cell_type": "code",
   "execution_count": 26,
   "id": "fd5cb866",
   "metadata": {},
   "outputs": [],
   "source": [
    "X_train, X_test, y_train, y_test=train_test_split(X,y,test_size=0.33, random_state=42)"
   ]
  },
  {
   "cell_type": "code",
   "execution_count": 27,
   "id": "5b30c9a8",
   "metadata": {},
   "outputs": [],
   "source": [
    "x_train=X_train.copy()"
   ]
  },
  {
   "cell_type": "code",
   "execution_count": 28,
   "id": "6561ea57",
   "metadata": {},
   "outputs": [],
   "source": [
    "\n",
    "# The ColumnsSelector class inherits from the sklearn.base classes \n",
    "# (BaseEstimator, TransformerMixin). This makes it compatible with \n",
    "# scikit-learn’s Pipelines\n",
    "class MappingColumns(BaseEstimator, TransformerMixin):\n",
    "    # initializer \n",
    "    def __init__(self,):\n",
    "        pass\n",
    "        \n",
    "    def fit(self, X, y = None):\n",
    "        return self\n",
    "    \n",
    "    def locationType(self,x):\n",
    "        if x==\"Urban\":\n",
    "            return 0\n",
    "        if x==\"Rural\":\n",
    "            return 1\n",
    "\n",
    "    def whCapacity(self,x):\n",
    "        if x == \"Small\":\n",
    "            return 0\n",
    "        if x == \"Mid\":\n",
    "            return 1\n",
    "        if x == \"Large\":\n",
    "            return 2\n",
    "\n",
    "    def whOwner(self,x):\n",
    "        if x == \"Rented\":\n",
    "            return 0\n",
    "        if x == \"Company Owned\":\n",
    "            return 1\n",
    "\n",
    "    def appGovtCert(self,x):\n",
    "        if x  == \"C\":\n",
    "            return 0\n",
    "        if x == \"B\":\n",
    "            return 1\n",
    "        if x == \"B+\":\n",
    "            return 2\n",
    "        if x == \"A\":\n",
    "            return 3\n",
    "        if x == \"A+\":\n",
    "            return 4\n",
    "\n",
    "\n",
    "    def transform(self, X, y = None):\n",
    "        X[\"location_type\"] = X[\"location_type\"].apply(self.locationType)\n",
    "        X[\"wh_capacity_size\"]=X[\"wh_capacity_size\"].apply(self.whCapacity)\n",
    "        X[\"wh_owner_type\"]=X[\"wh_owner_type\"].apply(self.whOwner)\n",
    "        X[\"approved_wh_govt_certificate\"]=X[\"approved_wh_govt_certificate\"].apply(self.appGovtCert)\n",
    "        return X"
   ]
  },
  {
   "cell_type": "code",
   "execution_count": 26,
   "id": "0785d421",
   "metadata": {},
   "outputs": [],
   "source": [
    "mapping = Pipeline(steps=[(\"map_col\",MappingColumns())])\n",
    "col_encode=['zone', 'wh_regional_zone']\n",
    "preprocessor = ColumnTransformer(transformers=[('ohe', OneHotEncoder(sparse=False, drop='first',handle_unknown='ignore'), col_encode)], remainder='passthrough')\n",
    "KNN_transformer = Pipeline(steps=[(\"robust_scalar\" , RobustScaler(with_centering=False)),(\"imputer\" , KNNImputer(n_neighbors=5, weights='distance'))])\n",
    "pipeline = Pipeline(steps=[\n",
    "    ('mapping', mapping),\n",
    "    ('preprocessor', preprocessor),\n",
    "    ('KNN_transformer',KNN_transformer),\n",
    "    ])"
   ]
  },
  {
   "cell_type": "code",
   "execution_count": 27,
   "id": "db39f68a",
   "metadata": {},
   "outputs": [],
   "source": [
    "X_final=pipeline.fit_transform(x_train)\n",
    "X_test = pipeline.transform(X_test)"
   ]
  },
  {
   "cell_type": "markdown",
   "id": "c38d5832",
   "metadata": {},
   "source": [
    "### Model Building and Evaluation"
   ]
  },
  {
   "cell_type": "code",
   "execution_count": 28,
   "id": "3d429e18",
   "metadata": {},
   "outputs": [],
   "source": [
    "from sklearn.linear_model import LinearRegression\n",
    "from sklearn.ensemble import GradientBoostingRegressor, RandomForestRegressor\n",
    "from sklearn.metrics import r2_score, mean_squared_error\n",
    "from sklearn.model_selection import GridSearchCV"
   ]
  },
  {
   "cell_type": "code",
   "execution_count": 29,
   "id": "e12ccbcc",
   "metadata": {},
   "outputs": [],
   "source": [
    "# !pip install xgboost"
   ]
  },
  {
   "cell_type": "markdown",
   "id": "07bbecfd",
   "metadata": {},
   "source": [
    "### Initialize Default Models in a dictionary"
   ]
  },
  {
   "cell_type": "code",
   "execution_count": 30,
   "id": "aee47121",
   "metadata": {},
   "outputs": [
    {
     "name": "stdout",
     "output_type": "stream",
     "text": [
      "Root mean square train error: 915.8558047085133\n",
      "Root mean square test error: 947.6616202123985\n",
      "Train score: 0.993775264994734\n",
      "Test score: 0.9933328650264206\n",
      "\n"
     ]
    }
   ],
   "source": [
    "GBmodel = GradientBoostingRegressor()\n",
    "GBmodel.fit(X_final, y_train) # Train model\n",
    "# Make predictions\n",
    "y_train_pred = GBmodel.predict(X_final)\n",
    "y_test_pred = GBmodel.predict(X_test)\n",
    "\n",
    "#train\n",
    "rmse_train = mean_squared_error(y_train, y_train_pred, squared=False)\n",
    "r_score_train = r2_score(y_train, y_train_pred)\n",
    "\n",
    "#test\n",
    "rmse_test = mean_squared_error(y_test, y_test_pred, squared=False)\n",
    "r_score_test = r2_score(y_test, y_test_pred)\n",
    "print(f\"Root mean square train error: {rmse_train}\\nRoot mean square test error: {rmse_test}\\nTrain score: {r_score_train}\\nTest score: {r_score_test}\\n\")"
   ]
  },
  {
   "cell_type": "code",
   "execution_count": null,
   "id": "b28fa0d6",
   "metadata": {},
   "outputs": [],
   "source": []
  },
  {
   "cell_type": "code",
   "execution_count": null,
   "id": "86f4fea4",
   "metadata": {},
   "outputs": [],
   "source": []
  },
  {
   "cell_type": "markdown",
   "id": "eddb8d4a",
   "metadata": {},
   "source": [
    "## Hyper parameter tuning"
   ]
  },
  {
   "cell_type": "code",
   "execution_count": 31,
   "id": "36d23311",
   "metadata": {},
   "outputs": [],
   "source": [
    "# from sklearn.tree import DecisionTreeRegressor\n",
    "# from sklearn.model_selection import GridSearchCV\n",
    "\n",
    "# # Create a decision tree regressor\n",
    "# tree = DecisionTreeRegressor()\n",
    "\n",
    "# # Define the hyperparameters to tune and their values\n",
    "# params = {\n",
    "#     'max_depth': [3, 5, 7, 9],\n",
    "#     'min_samples_split': [2, 5, 10],\n",
    "#     'min_samples_leaf': [1, 2, 4]\n",
    "# }\n",
    "\n",
    "# # Use GridSearchCV to search for the best hyperparameters\n",
    "# grid_search = GridSearchCV(tree, params, cv=5)\n",
    "# grid_search.fit(X_final, y_train)\n",
    "\n",
    "# # Print the best hyperparameters and the corresponding score\n",
    "# print('Best hyperparameters: ', grid_search.best_params_)\n",
    "# print('Best score: ', grid_search.best_score_)"
   ]
  },
  {
   "cell_type": "code",
   "execution_count": 32,
   "id": "9171ec37",
   "metadata": {},
   "outputs": [
    {
     "name": "stdout",
     "output_type": "stream",
     "text": [
      "Root mean square train error: 877.9420695340094\n",
      "Root mean square test error: 970.2326038906749\n",
      "Train score: 0.9942799689872707\n",
      "Test score: 0.9930114932001851\n",
      "\n"
     ]
    }
   ],
   "source": [
    "from sklearn.tree import DecisionTreeRegressor\n",
    "GBmodel = DecisionTreeRegressor(max_depth = 9, min_samples_leaf= 4, min_samples_split= 10)\n",
    "GBmodel.fit(X_final, y_train) # Train model\n",
    "# Make predictions\n",
    "y_train_pred = GBmodel.predict(X_final)\n",
    "y_test_pred = GBmodel.predict(X_test)\n",
    "\n",
    "#train\n",
    "rmse_train = mean_squared_error(y_train, y_train_pred, squared=False)\n",
    "r_score_train = r2_score(y_train, y_train_pred)\n",
    "\n",
    "#test\n",
    "rmse_test = mean_squared_error(y_test, y_test_pred, squared=False)\n",
    "r_score_test = r2_score(y_test, y_test_pred)\n",
    "print(f\"Root mean square train error: {rmse_train}\\nRoot mean square test error: {rmse_test}\\nTrain score: {r_score_train}\\nTest score: {r_score_test}\\n\")"
   ]
  },
  {
   "cell_type": "code",
   "execution_count": 33,
   "id": "6ba11121",
   "metadata": {},
   "outputs": [],
   "source": [
    "# from sklearn.ensemble import RandomForestRegressor\n",
    "# from sklearn.model_selection import GridSearchCV\n",
    "# import numpy as np\n",
    "\n",
    "# # Define the RandomForestRegressor model\n",
    "# rf = RandomForestRegressor()\n",
    "\n",
    "# # Define the grid of hyperparameters to search\n",
    "# param_grid = {\n",
    "# #     'n_estimators': [100, 200, 300],\n",
    "# #     'max_features': ['auto', 'sqrt', 'log2'], #auto\n",
    "# #     'max_depth': [10, 20, 30, None], #10\n",
    "# #     'min_samples_split': [2, 5, 10], #10\n",
    "# #     'min_samples_leaf': [1, 2, 4],\n",
    "# #     'bootstrap': [True, False]\n",
    "# }\n",
    "\n",
    "# # Use GridSearchCV to search for the best hyperparameters\n",
    "# grid_search = GridSearchCV(estimator=rf, param_grid=param_grid, cv=5)\n",
    "# grid_search.fit(X_final, y_train)\n",
    "\n",
    "# # Print the best hyperparameters\n",
    "# print(\"Best hyperparameters: \", grid_search.best_params_)\n",
    "# print(\"Best score: \", grid_search.best_score_)"
   ]
  },
  {
   "cell_type": "code",
   "execution_count": 34,
   "id": "917da54f",
   "metadata": {},
   "outputs": [
    {
     "name": "stdout",
     "output_type": "stream",
     "text": [
      "Root mean square train error: 877.9420695340094\n",
      "Root mean square test error: 970.2326038906749\n",
      "Train score: 0.9942799689872707\n",
      "Test score: 0.9930114932001851\n",
      "\n"
     ]
    }
   ],
   "source": [
    "rfmodel = RandomForestRegressor(max_depth = 10, max_features= 'auto', min_samples_leaf= 4, min_samples_split= 14, n_estimators= 120)\n",
    "rfmodel.fit(X_final, y_train) # Train model\n",
    "# Make predictions\n",
    "y_train_pred = GBmodel.predict(X_final)\n",
    "y_test_pred = GBmodel.predict(X_test)\n",
    "\n",
    "#train\n",
    "rmse_train = mean_squared_error(y_train, y_train_pred, squared=False)\n",
    "r_score_train = r2_score(y_train, y_train_pred)\n",
    "\n",
    "#test\n",
    "rmse_test = mean_squared_error(y_test, y_test_pred, squared=False)\n",
    "r_score_test = r2_score(y_test, y_test_pred)\n",
    "print(f\"Root mean square train error: {rmse_train}\\nRoot mean square test error: {rmse_test}\\nTrain score: {r_score_train}\\nTest score: {r_score_test}\\n\")"
   ]
  },
  {
   "cell_type": "code",
   "execution_count": 35,
   "id": "f0816a76",
   "metadata": {},
   "outputs": [],
   "source": [
    "# from sklearn.ensemble import RandomForestRegressor\n",
    "# from sklearn.model_selection import RandomizedSearchCV\n",
    "# from scipy.stats import randint\n",
    "# param_dist = {'n_estimators': randint(50, 200),\n",
    "#               'max_features': ['auto', 'sqrt', 'log2', None],\n",
    "#               'max_depth': [None, 5, 10, 20, 30, 40, 50],\n",
    "#               'min_samples_split': randint(2, 20),\n",
    "#               'min_samples_leaf': randint(1, 10)}\n",
    "# rf = RandomForestRegressor()\n",
    "# random_search = RandomizedSearchCV(estimator=rf,\n",
    "#                                    param_distributions=param_dist,\n",
    "#                                    n_iter=50,\n",
    "#                                    cv=5,\n",
    "#                                    random_state=42)\n",
    "# random_search.fit(X_final, y_train)\n",
    "\n",
    "# print('Best hyperparameters: ', random_search.best_params_)\n",
    "# print('Best score: ', random_search.best_score_)\n",
    "# Best hyperparameters:  {'max_depth': 10, 'max_features': 'auto', 'min_samples_leaf': 4, 'min_samples_split': 14, 'n_estimators': 120}\n",
    "# Best score:  0.9933191005289543"
   ]
  },
  {
   "cell_type": "code",
   "execution_count": 36,
   "id": "ddfb0905",
   "metadata": {},
   "outputs": [],
   "source": [
    "# # Define the model\n",
    "# model = GradientBoostingRegressor()\n",
    "\n",
    "# # Define the hyperparameter grid to search\n",
    "# param_grid = {'learning_rate': [0.1, 0.05, 0.01],\n",
    "#               'max_depth': [3, 5, 7],\n",
    "#               'n_estimators': [50, 100, 200]}\n",
    "\n",
    "# # Perform grid search with cross-validation\n",
    "# grid_search = GridSearchCV(model, param_grid, cv=5)\n",
    "# grid_search.fit(X_final, y_train)\n",
    "\n",
    "# # Print the best hyperparameters and the corresponding score\n",
    "# print(\"Best hyperparameters: \", grid_search.best_params_)\n",
    "# print(\"Best score: \", grid_search.best_score_)"
   ]
  },
  {
   "cell_type": "code",
   "execution_count": 37,
   "id": "6f0bedfb",
   "metadata": {},
   "outputs": [
    {
     "name": "stdout",
     "output_type": "stream",
     "text": [
      "Root mean square train error: 846.4172326146295\n",
      "Root mean square test error: 931.5260403119332\n",
      "Train score: 0.9946833795597149\n",
      "Test score: 0.9935579711933958\n",
      "\n"
     ]
    }
   ],
   "source": [
    "GBmodel = GradientBoostingRegressor(learning_rate= 0.05, max_depth= 5, n_estimators= 200)\n",
    "GBmodel.fit(X_final, y_train) # Train model\n",
    "# Make predictions\n",
    "y_train_pred = GBmodel.predict(X_final)\n",
    "y_test_pred = GBmodel.predict(X_test)\n",
    "\n",
    "#train\n",
    "rmse_train = mean_squared_error(y_train, y_train_pred, squared=False)\n",
    "r_score_train = r2_score(y_train, y_train_pred)\n",
    "\n",
    "#test\n",
    "rmse_test = mean_squared_error(y_test, y_test_pred, squared=False)\n",
    "r_score_test = r2_score(y_test, y_test_pred)\n",
    "print(f\"Root mean square train error: {rmse_train}\\nRoot mean square test error: {rmse_test}\\nTrain score: {r_score_train}\\nTest score: {r_score_test}\\n\")"
   ]
  },
  {
   "cell_type": "markdown",
   "id": "b6fb9bd1",
   "metadata": {},
   "source": [
    "### Saving the model"
   ]
  },
  {
   "cell_type": "code",
   "execution_count": 38,
   "id": "2d195d6d",
   "metadata": {},
   "outputs": [],
   "source": [
    "import dill\n",
    "data = {\"model\": GBmodel, \"pipeline\":pipeline}\n",
    "with open ('saved_steps.pkl', 'wb') as file:\n",
    "    dill.dump(data, file)"
   ]
  }
 ],
 "metadata": {
  "kernelspec": {
   "display_name": "Python 3 (ipykernel)",
   "language": "python",
   "name": "python3"
  },
  "language_info": {
   "codemirror_mode": {
    "name": "ipython",
    "version": 3
   },
   "file_extension": ".py",
   "mimetype": "text/x-python",
   "name": "python",
   "nbconvert_exporter": "python",
   "pygments_lexer": "ipython3",
   "version": "3.8.18"
  }
 },
 "nbformat": 4,
 "nbformat_minor": 5
}
